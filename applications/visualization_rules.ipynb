{
 "cells": [
  {
   "cell_type": "markdown",
   "metadata": {},
   "source": [
    "# Data Visualization: Rules and Guidelines\n",
    "\n",
    "**Prerequisites**\n",
    "\n",
    "- [Introduction to Plotting](../scientific/plotting)  \n",
    "\n",
    "\n",
    "**Outcomes**\n",
    "\n",
    "- Understand steps of creating a visualization  \n",
    "- Know when to use each of the core plots  \n",
    "- Introductory ability to make effective visualizations  "
   ]
  },
  {
   "cell_type": "code",
   "execution_count": null,
   "metadata": {
    "hide-output": false
   },
   "outputs": [],
   "source": [
    "import matplotlib.colors as mplc\n",
    "import matplotlib.patches as patches\n",
    "import matplotlib.pyplot as plt\n",
    "import numpy as np\n",
    "import pandas as pd\n",
    "import statsmodels.formula.api as sm\n",
    "\n",
    "from pandas_datareader import DataReader\n",
    "\n",
    "%matplotlib inline"
   ]
  },
  {
   "cell_type": "markdown",
   "metadata": {},
   "source": [
    "## Introduction\n",
    "\n",
    "The job of an economist (or data scientist) goes beyond simply learning new things using data and\n",
    "theory. The point of learning these new things is to be able to communicate these ideas to others\n",
    "whether the medium is an academic paper or a business meeting. One of the most effective mediums to\n",
    "do this communication is visualizations\n",
    "\n",
    "Well done visualizations help your audience remember your message. They accomplish this through at\n",
    "least two main channels:\n",
    "\n",
    "1. Research shows that human brains are built to process pictures. According to one study, after\n",
    "  reading an article with no images, only 10% of people remembered the message about three days\n",
    "  later, but 65% of people who read the same article with relevant images remembered the message  \n",
    "1. Data visualizations help people walk through the same logic you went through to build the chart\n",
    "  which allows them to reason through the argument and makes your claim more convincing  \n",
    "\n",
    "\n",
    "In this lecture we will discuss the process for creating a data visualization, ways to best ensure\n",
    "that your message is successfully communicated, and some other basic design guidelines. Along the\n",
    "way you will be introduced to many features of `matplotlib` that were not discussed in the\n",
    "introductory lecture. We won’t discuss most of these features, but encourage you to read more in the\n",
    "[online documentation](https://matplotlib.org/contents.html) if you have questions"
   ]
  },
  {
   "cell_type": "markdown",
   "metadata": {},
   "source": [
    "## Steps to creating effective charts\n",
    "\n",
    "Before we begin discussions of specific recommendations, we think it is helpful to agree on what\n",
    "the goal of a data visualization is and a process which can be used to accomplish the goal\n",
    "\n",
    "As mentioned in the introduction, the purpose of a visualization is to facilitate the communication\n",
    "of a message or idea\n",
    "\n",
    "We have found the following steps to be useful for achieving this goal:\n",
    "\n",
    "1. Identify the message  \n",
    "1. Describe your visualization  \n",
    "1. Create a draft of the visualization (and verify your data!)  \n",
    "1. Fine tune the visualization details  \n",
    "\n",
    "\n",
    "After discussing the role research plays in data visualization, we will use an example to provide\n",
    "deeper context for the remaining steps\n",
    "\n",
    "**Step 0: Research**\n",
    "\n",
    "Before we proceed, it’s important to note that prior to reaching this process, you will have spent\n",
    "a significant amount of time exploring the data and thinking about your overall message\n",
    "\n",
    "In fact, during the research step you will almost certainly produce visualizations to help you\n",
    "understand the data you are working with. These visualizations can highlight outliers or unlikely\n",
    "combinations of variables\n",
    "\n",
    "For example, NYC publishes data on taxi pickups and dropoffs. One might expect tips to be\n",
    "somewhat independent of whether someone pays cash or credit, but the 75th percentile tip for\n",
    "those who pay in cash is 0!!! Because it’s unlikely that people who pay in cash choose\n",
    "not to tip, one likely explanation is that it is a reporting issue\n",
    "\n",
    "The steps and guidelines that follow may be helpful in the research process, but it’s not practical\n",
    "to get each of your exploratory visualizations to a point where you would be able to publish them,\n",
    "so some of these recommendations will be specific to what should happen to create a visualization\n",
    "that you will use to tell your story after you understand what it is"
   ]
  },
  {
   "cell_type": "markdown",
   "metadata": {},
   "source": [
    "### Example\n",
    "\n",
    "The output of this example will be a reproduction of a visualization from\n",
    "[this NYT article](https://www.nytimes.com/2019/01/11/upshot/big-cities-low-skilled-workers-wages.html)\n",
    "\n",
    "This NYT article is based on research done by David Autor, an economist at MIT, and his co-authors.\n",
    "His research investigates the changes we have observed over time in the United States between work\n",
    "opportunities in rural and urban locations. This particular graph explores the fact that for much of\n",
    "the 20th century both college educated workers and non-college educated workers were able to find\n",
    "higher paying jobs by working in urban areas. However, more recently this *city wage premium* is\n",
    "still apparent for those with college educations, but for those without a college education it has\n",
    "disappeared"
   ]
  },
  {
   "cell_type": "markdown",
   "metadata": {},
   "source": [
    "#### Identify the message\n",
    "\n",
    "The first step to creating a visualization might feel a little obvious, however, in many ways, this\n",
    "is the most important step. If you fail to choose a concise message then you won’t be able to\n",
    "communicate an idea clearly\n",
    "\n",
    "In this example, we want people to be able to answer the question, “What has happened to the\n",
    "rural/urban wage gap for non-college educated workers since the 1950s?”\n",
    "\n",
    "Since part of what makes the answer to this question interesting is that it is unique to non-college\n",
    "educated workers, we will also want to display what has happened to the wage gap for college\n",
    "educated workers"
   ]
  },
  {
   "cell_type": "markdown",
   "metadata": {},
   "source": [
    "#### Visualize\n",
    "\n",
    "The ability to choose the type of visualization that will best illustrate your point is an important\n",
    "skill to develop. Using the wrong type of visualization can inhibit the flow of information from the\n",
    "graph to your audience’s brain\n",
    "\n",
    "In our case, we need to display the relationship between population density (our measure of\n",
    "rural/urban) and wages for different years and education levels\n",
    "\n",
    "Since the wage gap will be the main focus, we want to choose a visualization that best highlights\n",
    "this aspect of the data. One of the most effective ways to demonstrate the relationship of two\n",
    "variables is to make a scatter plot. We will place the log of population density on the x-axis and\n",
    "the log of wages on the y-axis.\n",
    "\n",
    "We will then need to find a way to demonstrate this for different years and education levels. The\n",
    "most natural way to proceed is to demonstrate one of these variables using color and the other using\n",
    "different subplots. In the original article, they chose to highlight differences in college\n",
    "education using color and time using subplots"
   ]
  },
  {
   "cell_type": "markdown",
   "metadata": {},
   "source": [
    "#### Visualization draft\n",
    "\n",
    "Drafting an early version of your visualization without concerning yourself about how good the graph\n",
    "looks allows you to think about whether it is able to answer the proposed question\n",
    "\n",
    "Sometimes you’ll get to this step and realize that you need to go back to one of the previous\n",
    "steps… It’s ok to scrap what you have and restart at square one. In fact, you will frequently do\n",
    "this no matter how much experience you’ve developed. We find that it’s not uncommon to discard ten or\n",
    "more versions of a graph before settling on a draft we are happy with\n",
    "\n",
    "Below we create a draft of the plot we want to show"
   ]
  },
  {
   "cell_type": "code",
   "execution_count": null,
   "metadata": {
    "hide-output": false
   },
   "outputs": [],
   "source": [
    "# Read in data\n",
    "df = pd.read_csv(\"https://storage.googleapis.com/qeds/data/density_wage_data.csv\")\n",
    "df[\"year\"] = df.year.astype(int)  # Convert year to int\n",
    "\n",
    "\n",
    "def single_scatter_plot(df, year, educ, ax, color):\n",
    "    \"\"\"\n",
    "    This function creates a single year's and education level's\n",
    "    log density to log wage plot\n",
    "    \"\"\"\n",
    "    # Filter data to keep only the data of interest\n",
    "    _df = df.query(\"(year == @year) & (group == @educ)\")\n",
    "    _df.plot(\n",
    "        kind=\"scatter\", x=\"density_log\", y=\"wages_logs\", ax=ax, color=color\n",
    "    )\n",
    "\n",
    "    return ax\n",
    "\n",
    "# Create initial plot\n",
    "fig, ax = plt.subplots(1, 4, figsize=(16, 6), sharey=True)\n",
    "\n",
    "# Years are 1980, 1990, 2000, 2011\n",
    "for (i, year) in enumerate(df.year.unique()):\n",
    "    single_scatter_plot(df, year, \"college\", ax[i], \"b\")\n",
    "    single_scatter_plot(df, year, \"noncollege\", ax[i], \"r\")\n",
    "    ax[i].set_title(str(year))"
   ]
  },
  {
   "cell_type": "code",
   "execution_count": null,
   "metadata": {
    "hide-output": false
   },
   "outputs": [],
   "source": [
    "# Your code here"
   ]
  },
  {
   "cell_type": "markdown",
   "metadata": {},
   "source": [
    "#### Fine tune\n",
    "\n",
    "Great! We have now confirmed that the our decisions up until this point have made sense and that a\n",
    "version of this graphic can successfully convey our message\n",
    "\n",
    "The last step is to clean the graph up to make sure that it looks nice and that no features\n",
    "detract or distract from our message\n",
    "\n",
    "Much of the rest of this lecture will be dedicated to this fine tuning, so we will post-pone\n",
    "presenting the details, but include the code we use to create the best version of this graphic below"
   ]
  },
  {
   "cell_type": "code",
   "execution_count": null,
   "metadata": {
    "hide-output": false
   },
   "outputs": [],
   "source": [
    "# Read in data\n",
    "df = pd.read_csv(\"https://storage.googleapis.com/qeds/data/density_wage_data.csv\")\n",
    "df[\"year\"] = df.year.astype(int)  # Convert year to int\n",
    "\n",
    "\n",
    "def single_scatter_plot(df, year, educ, ax, color):\n",
    "    \"\"\"\n",
    "    This function creates a single year's and education level's\n",
    "    log density to log wage plot\n",
    "    \"\"\"\n",
    "    # Filter data to keep only the data of interest\n",
    "    _df = df.query(\"(year == @year) & (group == @educ)\")\n",
    "    _df.plot(\n",
    "        kind=\"scatter\", x=\"density_log\", y=\"wages_logs\", ax=ax, color=color\n",
    "    )\n",
    "\n",
    "    return ax\n",
    "\n",
    "# Create initial plot\n",
    "fig, ax = plt.subplots(1, 4, figsize=(16, 6))\n",
    "colors = {\"college\": \"#1385ff\", \"noncollege\": \"#ff6d13\"}\n",
    "\n",
    "# Years are 1980, 1990, 2000, 2011\n",
    "for (i, year) in enumerate(df.year.unique()):\n",
    "    single_scatter_plot(df, year, \"college\", ax[i], colors[\"college\"])\n",
    "    single_scatter_plot(df, year, \"noncollege\", ax[i], colors[\"noncollege\"])\n",
    "    ax[i].set_title(str(year))\n",
    "\n",
    "bgcolor = (250/255, 250/255, 250/255)\n",
    "fig.set_facecolor(bgcolor)\n",
    "for (i, _ax) in enumerate(ax):\n",
    "    # Label with words\n",
    "    if i == 0:\n",
    "        _ax.set_xlabel(\"Population Density\")\n",
    "    else:\n",
    "        _ax.set_xlabel(\"\")\n",
    "\n",
    "    # Turn off right and top axis lines\n",
    "    _ax.spines['right'].set_visible(False)\n",
    "    _ax.spines['top'].set_visible(False)\n",
    "\n",
    "    # Don't use such a white background color\n",
    "    _ax.set_facecolor(bgcolor)\n",
    "\n",
    "    # Change bounds\n",
    "    _ax.set_ylim((np.log(4), np.log(30)))\n",
    "    _ax.set_xlim((0, 10))\n",
    "\n",
    "    # Change ticks\n",
    "    xticks = [10, 100, 1000, 10000]\n",
    "    _ax.set_xticks([np.log(xi) for xi in xticks])\n",
    "    _ax.set_xticklabels([str(xi) for xi in xticks])\n",
    "\n",
    "    yticks = list(range(5, 32, 5))\n",
    "    _ax.set_yticks([np.log(yi) for yi in yticks])\n",
    "    if i == 0:\n",
    "        _ax.set_yticklabels([str(yi) for yi in yticks])\n",
    "        _ax.set_ylabel(\"Average Wage\")\n",
    "    else:\n",
    "        _ax.set_yticklabels([])\n",
    "        _ax.set_ylabel(\"\")\n",
    "\n",
    "ax[0].annotate(\"College Educated Workers\", (np.log(75), np.log(14.0)), color=colors[\"college\"])\n",
    "ax[0].annotate(\"Non-College Educated Workers\", (np.log(10), np.log(5.25)), color=colors[\"noncollege\"])"
   ]
  },
  {
   "cell_type": "markdown",
   "metadata": {},
   "source": [
    "## Visualization Types\n",
    "\n",
    "You have seen many kinds of visualizations throughout your life. We discuss a few of the most\n",
    "frequently used visualization types below and describe the types of data they can be used to\n",
    "represent. For a more complete list of visualization types, see the Duke library’s\n",
    "[data visualization guide](https://guides.library.duke.edu/datavis/vis_types)"
   ]
  },
  {
   "cell_type": "markdown",
   "metadata": {},
   "source": [
    "### Scatter plots\n",
    "\n",
    "Scatter plots can be used in various ways. They are frequently used to show how two variables are\n",
    "related to one another or compare various observations based on two variables. We found\n",
    "[this article](https://qz.com/1235712/the-origins-of-the-scatter-plot-data-visualizations-greatest-invention/)\n",
    "about the scatter plot to be a good read\n",
    "\n",
    "One of the strengths of a scatter plot is that its simplicity allows the data to speak for itself –\n",
    "It is simply a plot of two variables and allows one to get an idea of whether the variables are\n",
    "linearly related, quadratically related, or maybe not related at all\n",
    "\n",
    "We have already seen an example that uses a scatter plot to show the relationship between two\n",
    "variables. Below we demonstrate how it can be used to compare"
   ]
  },
  {
   "cell_type": "code",
   "execution_count": null,
   "metadata": {
    "hide-output": false
   },
   "outputs": [],
   "source": [
    "cities = [\n",
    "    \"San Francisco\", \"Austin\", \"Las Vegas\", \"New York\", \"Seattle\", \"Pittsburgh\",\n",
    "    \"Detroit\", \"Fresno\", \"Phoenix\", \"Orlando\", \"Atlanta\", \"Madison\"\n",
    "]\n",
    "unemp_wage = np.array([\n",
    "    [2.6, 39.89], [2.9, 29.97], [4.6, 24.38], [3.9, 33.09], [3.9, 40.11], [4.2, 27.98],\n",
    "    [4.1, 28.41], [7.1, 22.96], [4.5, 27.42], [3.0, 21.47], [3.6, 25.19], [2.2, 29.48]\n",
    "])\n",
    "df = pd.DataFrame(unemp_wage, index=cities, columns=[\"Unemployment\", \"Wage\"])\n",
    "\n",
    "fig, ax = plt.subplots()\n",
    "df.plot(kind=\"scatter\", x=\"Unemployment\", y=\"Wage\", ax=ax, s=25, color=\"#c90000\")\n",
    "\n",
    "# Add annotations\n",
    "for (i, row) in df.iterrows():\n",
    "    city = row.name\n",
    "\n",
    "    if city in [\"San Francisco\", \"Madison\"]:\n",
    "        offset = (-35, -10.5)\n",
    "    elif city in [\"Atlanta\", \"Phoenix\", \"Madison\"]:\n",
    "        offset = (-25, -12.5)\n",
    "    elif city in [\"Detroit\"]:\n",
    "        offset = (-38, 0)\n",
    "    elif city in [\"Pittsburgh\"]:\n",
    "        offset = (5, 0)\n",
    "    else:\n",
    "        offset = (5, 2.5)\n",
    "    ax.annotate(\n",
    "        city, xy=(row[\"Unemployment\"], row[\"Wage\"]),\n",
    "        xytext=offset, textcoords=\"offset points\"\n",
    "    )\n",
    "\n",
    "bgcolor = (250/255, 250/255, 250/255)\n",
    "fig.set_facecolor(bgcolor)\n",
    "ax.set_facecolor(bgcolor)\n",
    "ax.set_xlim(0, 10)\n",
    "ax.set_ylim(20, 45)\n",
    "ax.spines['right'].set_visible(False)\n",
    "ax.spines['top'].set_visible(False)"
   ]
  },
  {
   "cell_type": "markdown",
   "metadata": {},
   "source": [
    "### Line plots\n",
    "\n",
    "Line plots are best used to either show how a variable evolves over time or to demonstrate the\n",
    "relationship between variables\n",
    "\n",
    "It is useful to note that it differs in the way it displays relationships between variables. A\n",
    "line plot is restricted to displaying a line, so you cannot just draw a line between all of your\n",
    "datapoints. Instead, before drawing the line, you must fit some kind of statistical model that can\n",
    "show how one variable changes as the other changes\n",
    "\n",
    "Below, we add regression lines of the estimated relationship between population density and wages to\n",
    "our college/non-college urban wage premium plot to further illustrate our point – In fact in Dr.\n",
    "Autor’s original slides, he uses regression lines but the New York Times chose to remove them"
   ]
  },
  {
   "cell_type": "code",
   "execution_count": null,
   "metadata": {
    "hide-output": false
   },
   "outputs": [],
   "source": [
    "from sklearn.linear_model import LinearRegression\n",
    "\n",
    "# Read in data\n",
    "df = pd.read_csv(\"https://storage.googleapis.com/qeds/data/density_wage_data.csv\")\n",
    "df[\"year\"] = df.year.astype(int)  # Convert year to int\n",
    "\n",
    "\n",
    "def single_scatter_plot(df, year, educ, ax, color):\n",
    "    \"\"\"\n",
    "    This function creates a single year's and education level's\n",
    "    log density to log wage plot\n",
    "    \"\"\"\n",
    "    # Filter data to keep only the data of interest\n",
    "    _df = df.query(\"(year == @year) & (group == @educ)\")\n",
    "    _df.plot(\n",
    "        kind=\"scatter\", x=\"density_log\", y=\"wages_logs\", ax=ax, color=color\n",
    "    )\n",
    "\n",
    "    lr = LinearRegression()\n",
    "    X = _df[\"density_log\"].values.reshape(-1, 1)\n",
    "    y = _df[\"wages_logs\"].values.reshape(-1, 1)\n",
    "    lr.fit(X, y)\n",
    "\n",
    "    x = np.linspace(2.0, 9.0).reshape(-1, 1)\n",
    "    y_pred = lr.predict(x)\n",
    "    ax.plot(x, y_pred, color=color)\n",
    "\n",
    "    return ax\n",
    "\n",
    "# Create initial plot\n",
    "fig, ax = plt.subplots(1, 4, figsize=(16, 6))\n",
    "colors = {\"college\": \"#1385ff\", \"noncollege\": \"#ff6d13\"}\n",
    "\n",
    "# Years are 1980, 1990, 2000, 2011\n",
    "for (i, year) in enumerate(df.year.unique()):\n",
    "    single_scatter_plot(df, year, \"college\", ax[i], colors[\"college\"])\n",
    "    single_scatter_plot(df, year, \"noncollege\", ax[i], colors[\"noncollege\"])\n",
    "    ax[i].set_title(str(year))\n",
    "\n",
    "bgcolor = (250/255, 250/255, 250/255)\n",
    "fig.set_facecolor(bgcolor)\n",
    "for (i, _ax) in enumerate(ax):\n",
    "    # Label with words\n",
    "    if i == 0:\n",
    "        _ax.set_xlabel(\"Population Density\")\n",
    "    else:\n",
    "        _ax.set_xlabel(\"\")\n",
    "\n",
    "    # Turn off right and top axis lines\n",
    "    _ax.spines['right'].set_visible(False)\n",
    "    _ax.spines['top'].set_visible(False)\n",
    "\n",
    "    # Don't use such a white background color\n",
    "    _ax.set_facecolor(bgcolor)\n",
    "\n",
    "    # Change bounds\n",
    "    _ax.set_ylim((np.log(4), np.log(30)))\n",
    "    _ax.set_xlim((0, 10))\n",
    "\n",
    "    # Change ticks\n",
    "    xticks = [10, 100, 1000, 10000]\n",
    "    _ax.set_xticks([np.log(xi) for xi in xticks])\n",
    "    _ax.set_xticklabels([str(xi) for xi in xticks])\n",
    "\n",
    "    yticks = list(range(5, 32, 5))\n",
    "    _ax.set_yticks([np.log(yi) for yi in yticks])\n",
    "    if i == 0:\n",
    "        _ax.set_yticklabels([str(yi) for yi in yticks])\n",
    "        _ax.set_ylabel(\"Average Wage\")\n",
    "    else:\n",
    "        _ax.set_yticklabels([])\n",
    "        _ax.set_ylabel(\"\")\n",
    "\n",
    "ax[0].annotate(\"College Educated Workers\", (np.log(75), np.log(14.0)), color=colors[\"college\"])\n",
    "ax[0].annotate(\"Non-College Educated Workers\", (np.log(10), np.log(5.25)), color=colors[\"noncollege\"])"
   ]
  },
  {
   "cell_type": "markdown",
   "metadata": {},
   "source": [
    "### Bar charts\n",
    "\n",
    "Bar charts are mostly used to display differences for a variable between groups though they can also\n",
    "be used to show how a variable changes over time (which in some ways is just showing a difference\n",
    "between a variable as grouped by time…)\n",
    "\n",
    "Bar charts show the differences between these groups using the length of each bar. This use of\n",
    "length makes it very straightforward to compare the different groups\n",
    "\n",
    "In the example below we show a bar chart of how the unemployment rate differs across several cities\n",
    "in the United States"
   ]
  },
  {
   "cell_type": "code",
   "execution_count": null,
   "metadata": {
    "hide-output": false
   },
   "outputs": [],
   "source": [
    "cities = [\n",
    "    \"San Francisco\", \"Austin\", \"Las Vegas\", \"New York\", \"Seattle\", \"Pittsburgh\",\n",
    "    \"Detroit\", \"Fresno\", \"Phoenix\", \"Orlando\", \"Atlanta\", \"Madison\"\n",
    "]\n",
    "unemp_wage = np.array([\n",
    "    [2.6, 39.89], [2.9, 29.97], [4.6, 24.38], [3.9, 33.09], [3.9, 40.11], [4.2, 27.98],\n",
    "    [4.1, 28.41], [7.1, 22.96], [4.5, 27.42], [3.0, 21.47], [3.6, 25.19], [2.2, 29.48]\n",
    "])\n",
    "df = pd.DataFrame(unemp_wage, index=cities, columns=[\"Unemployment\", \"Wage\"])\n",
    "df = df.sort_values([\"Unemployment\"], ascending=False)\n",
    "\n",
    "fig, ax = plt.subplots()\n",
    "\n",
    "df[\"Unemployment\"].plot(kind=\"barh\", ax=ax, color=\"#1b48fc\")\n",
    "ax.spines['right'].set_visible(False)\n",
    "ax.spines['top'].set_visible(False)\n",
    "ax.set_title(\"Unemployment Rate in US Cities\")"
   ]
  },
  {
   "cell_type": "markdown",
   "metadata": {},
   "source": [
    "### Histograms\n",
    "\n",
    "Histograms are used to display the approximate distribution of a single variable. They can be\n",
    "particularly important when variables you use are not distributed normally since we typically tend\n",
    "to think of means and variances in terms of the normal distribution\n",
    "\n",
    "In the example below, we show a histogram of GDP growth rates over the period 1948 - 2019. Our\n",
    "histogram indicates this variable is approximately normally distributed"
   ]
  },
  {
   "cell_type": "code",
   "execution_count": null,
   "metadata": {
    "hide-output": false
   },
   "outputs": [],
   "source": [
    "# GDP quarterly growth\n",
    "gdp = DataReader(\"GDP\", \"fred\", 1948, 2019).pct_change().dropna()\n",
    "gdp = gdp * 100\n",
    "\n",
    "fig, ax = plt.subplots()\n",
    "gdp.plot(\n",
    "    kind=\"hist\", y=\"GDP\", color=(244/255, 77/255, 24/255),\n",
    "    bins=23, legend=False, density=True, ax=ax\n",
    ")\n",
    "ax.set_facecolor((0.96, 0.96, 0.96))\n",
    "fig.set_facecolor((0.96, 0.96, 0.96))\n",
    "ax.spines['right'].set_visible(False)\n",
    "ax.spines['top'].set_visible(False)\n",
    "ax.set_title(\"US GDP Growth from 1948-2019\")"
   ]
  },
  {
   "cell_type": "markdown",
   "metadata": {},
   "source": [
    "## Color in plots\n",
    "\n",
    "Choosing colors for your plots is not always a straightforward task. Visualization expert\n",
    "Edward Tufte <https://www.edwardtufte.com/tufte/> wrote,\n",
    "\n",
    "> … Avoiding catastrophe becomes the first principle in bringing color to information: Above\n",
    "all, do no harm” ([*Envisioning Information*](https://www.edwardtufte.com/tufte/books_ei) by Edward Tufte)\n",
    "\n",
    "\n",
    "So how do we, “do no harm?”"
   ]
  },
  {
   "cell_type": "markdown",
   "metadata": {},
   "source": [
    "### Hue Saturation Lightness\n",
    "\n",
    "We will use the [Hue Saturation Value](https://en.wikipedia.org/wiki/HSL_and_HSV) (HSV) paradigm as a way to formalize our discussion of colors\n",
    "\n",
    "- **Hue**: Denotes the share of each of the primary colors (red, green, blue) in the represented color\n",
    "  represented as angles around a circle. The hue begins with red at 0 degrees, green at 120\n",
    "  degrees, and blue at 240 degrees (Note: matplotlib converts these back into numbers between 0 and\n",
    "  1 by dividing by 360). Angles between these colors are mixes of the primary colors  \n",
    "- **Saturation**: Denotes how rich the color is using numbers between 0 and 1. At full saturation\n",
    "  (saturation is 1), the color is as rich as it can possibly be. At saturation 0, the color has no\n",
    "  color left and is approximately a projection of the color into gray scale (Note that this is not\n",
    "  exactly true)  \n",
    "- **Value**: Denotes how dark the color is using numbers between 0 and 1. We view this as how much black\n",
    "  has been added to a color. If a color has value 0 then it is as dark as possible and is just the\n",
    "  color black. If the color has value 1 then it has no black and is just the original color  \n",
    "\n",
    "\n",
    "The way in which HSV covers the color space is demonstrated in the following figure\n",
    "\n",
    "<img src=\"https://storage.googleapis.com/qeds/_static/visualization_files/HSV_color_solid_cylinder_saturation_gray.png\" alt=\"HSL_cylinder.png\" style=\"\">\n",
    "\n",
    "  \n",
    "Image attribution: By [SharkD](https://commons.wikimedia.org/w/index.php?curid=9801673)\n",
    "\n",
    "Below we demonstrate how colors change as we move hue/saturation/value one at a time"
   ]
  },
  {
   "cell_type": "code",
   "execution_count": null,
   "metadata": {
    "hide-output": false
   },
   "outputs": [],
   "source": [
    "def color_swatches(colors):\n",
    "\n",
    "    ncolors = len(colors)\n",
    "    fig, ax = plt.subplots(figsize=(ncolors*2, 2))\n",
    "\n",
    "    for (start_x, color) in enumerate(colors):\n",
    "        color_rect = patches.Rectangle((start_x, 0), 1, 1, color=color)\n",
    "        ax.add_patch(color_rect)\n",
    "\n",
    "    ax.set_xlim(0, len(colors))\n",
    "    ax.set_ylim(0, 1)\n",
    "    ax.set_yticks([])\n",
    "    ax.set_yticklabels([])\n",
    "    ax.set_xticks([])\n",
    "    ax.set_xticklabels([])\n",
    "\n",
    "    return fig"
   ]
  },
  {
   "cell_type": "code",
   "execution_count": null,
   "metadata": {
    "hide-output": false
   },
   "outputs": [],
   "source": [
    "# Vary hue\n",
    "colors = [mplc.hsv_to_rgb((i/360, 1, 1)) for i in np.linspace(0, 360, 6)]\n",
    "fig = color_swatches(colors)\n",
    "fig.suptitle(\"Varying Hue\")"
   ]
  },
  {
   "cell_type": "code",
   "execution_count": null,
   "metadata": {
    "hide-output": false
   },
   "outputs": [],
   "source": [
    "# Vary saturation\n",
    "colors = [mplc.hsv_to_rgb((0, i, 1)) for i in np.linspace(0, 1, 5)]\n",
    "fig = color_swatches(colors)\n",
    "fig.suptitle(\"Varying Saturation\")"
   ]
  },
  {
   "cell_type": "code",
   "execution_count": null,
   "metadata": {
    "hide-output": false
   },
   "outputs": [],
   "source": [
    "# Vary value\n",
    "colors = [mplc.hsv_to_rgb((0, 1, i)) for i in np.linspace(0, 1, 5)]\n",
    "fig = color_swatches(colors)\n",
    "fig.suptitle(\"Varying Value\")"
   ]
  },
  {
   "cell_type": "markdown",
   "metadata": {},
   "source": [
    "### Color Palettes\n",
    "\n",
    "A good color palette will exploit aspects of hue, saturation, and value to emphasize the information\n",
    "in the data visualization. For example, for qualitatively different groups (where we just want to\n",
    "identify separate groups and there aren’t quantitative relationships between them) one could fix\n",
    "the saturation and value and draw $ N $ evenly spaced values from hue space\n",
    "\n",
    "However, creating a good color palette sometimes requires more nuance than can be attributed to\n",
    "rules of thumb. Luckily, matplotlib and other Python packages have good packages that can help\n",
    "choose good color palettes and it is often better to rely on these pre-built color palettes and\n",
    "themes than creating your own\n",
    "\n",
    "We can get a list of all of the color palettes (referred to as color maps by matplotlib) included\n",
    "with matplotlib by doing"
   ]
  },
  {
   "cell_type": "code",
   "execution_count": null,
   "metadata": {
    "hide-output": false
   },
   "outputs": [],
   "source": [
    "print(plt.colormaps())"
   ]
  },
  {
   "cell_type": "markdown",
   "metadata": {},
   "source": [
    "The [matplotlib documentation](https://matplotlib.org/tutorials/colors/colormaps.html)\n",
    "differentiates between colormaps used for varying purposes\n",
    "\n",
    "Colormaps are often split into several categories based on their function (see, e.g., [Moreland]):\n",
    "\n",
    "> - Sequential: change in lightness and often saturation of color incrementally,\n",
    "  often using a single hue; should be used for representing information that has ordering  \n",
    "- Diverging: change in lightness and possibly saturation of two different\n",
    "  colors that meet in the middle at an unsaturated color; should be used when the\n",
    "  information being plotted has a critical middle value, such as topography or\n",
    "  when the data deviates around zero  \n",
    "- Cyclic: change in lightness of two different colors that meet in\n",
    "  the middle and beginning/end at an unsaturated color; should be used for\n",
    "  values that wrap around at the endpoints, such as phase angle, wind direction, or time of day  \n",
    "- Qualitative: often are miscellaneous colors; should be used to represent\n",
    "  information which does not have ordering or relationships  \n",
    "\n",
    "\n",
    "\n",
    "Most of the examples we have used so far can use qualitative color maps because they are simply\n",
    "meant to distinguish between different variables/observations and not say something about how they\n",
    "differ\n",
    "\n",
    "Additionally, three other nice sources of information on colors and color palettes are the\n",
    "\n",
    "- The [seaborn documentation](https://seaborn.pydata.org/tutorial/color_palettes.html)  \n",
    "- A [talk](https://www.youtube.com/watch?v=xAoljeRJ3lU) given at the Scipy conference in 2015 by\n",
    "  Nathaniel Smith  \n",
    "- A [website](https://colorusage.arc.nasa.gov/graphics_page_design.php) literally put together by\n",
    "  “rocket scientists” at NASA  "
   ]
  },
  {
   "cell_type": "markdown",
   "metadata": {},
   "source": [
    "### Do no harm\n",
    "\n",
    "Now that we have a little background that we can use as a common language, we can proceed with\n",
    "discussing how we can use color effectively"
   ]
  },
  {
   "cell_type": "markdown",
   "metadata": {},
   "source": [
    "#### Sometimes value is more effective than hue\n",
    "\n",
    "Sometimes it is more effective to use the same color with different values to highlight differences\n",
    "in a graph with many lines\n",
    "\n",
    "Compare the following example which is a modification of an example by Larry Arend, Alex Logan, and\n",
    "Galina Havin’s [graphics website](https://colorusage.arc.nasa.gov/graphics_page_design.php) (the NASA one we linked above)"
   ]
  },
  {
   "cell_type": "code",
   "execution_count": null,
   "metadata": {
    "hide-output": false
   },
   "outputs": [],
   "source": [
    "def confusing_plot(colors):\n",
    "\n",
    "    c1, c2, c3 = colors\n",
    "\n",
    "    fig, ax = plt.subplots()\n",
    "\n",
    "    x1 = np.linspace(0.2, 0.9, 5)\n",
    "    x2 = np.linspace(0.3, 0.8, 5)\n",
    "\n",
    "    ax.text(0.4, 0.10, \"Not Important\", color=c3, fontsize=15)\n",
    "    ax.text(0.25, 0.25, \"Not Important\", color=c3, fontsize=15)\n",
    "    ax.text(0.5, 0.70, \"Not Important\", color=c3, fontsize=15)\n",
    "    ax.plot(x1, 1.25*x1 - 0.2, color=c3, linewidth=2)\n",
    "    ax.plot(x1, 1.25*x1 + 0.1, color=c3, linewidth=2)\n",
    "    ax.plot(x1, 0*x1 + 0.3, color=c3, linewidth=2)\n",
    "    ax.plot(x2, 0.15*x1 + 0.4, color=c2, linewidth=3)\n",
    "    ax.plot(x1, -x1 + 1.2, color=c2, linewidth=3)\n",
    "    ax.plot(x1, -x1 + 1.25, color=c2, linewidth=3)\n",
    "    ax.text(0.10, 0.5, \"Second order\", color=c2, fontsize=22)\n",
    "    ax.text(0.5, 0.35, \"Second order\", color=c2, fontsize=22)\n",
    "    ax.text(0.40, 0.65, \"Second order\", color=c2, fontsize=22)\n",
    "    ax.plot(x2, 0.25*x1 + 0.1, color=c1, linewidth=5)\n",
    "    ax.text(0.05, 0.4, \"Important\", color=c1, fontsize=34)\n",
    "\n",
    "    ax.set_xlim(0, 1)\n",
    "    ax.set_ylim(0, 1)\n",
    "\n",
    "    return fig"
   ]
  },
  {
   "cell_type": "code",
   "execution_count": null,
   "metadata": {
    "hide-output": false
   },
   "outputs": [],
   "source": [
    "# All black\n",
    "colors = [mplc.hsv_to_rgb((0, 1, x)) for x in [0.0, 0.0, 0.0]]\n",
    "fig = confusing_plot(colors)"
   ]
  },
  {
   "cell_type": "code",
   "execution_count": null,
   "metadata": {
    "hide-output": false
   },
   "outputs": [],
   "source": [
    "# Vary the hues\n",
    "colors = [mplc.hsv_to_rgb((x, 1, 1)) for x in [0.0, 0.33, 0.66]]\n",
    "fig = confusing_plot(colors)"
   ]
  },
  {
   "cell_type": "code",
   "execution_count": null,
   "metadata": {
    "hide-output": false
   },
   "outputs": [],
   "source": [
    "# Vary the values\n",
    "colors = [mplc.hsv_to_rgb((0, 0, x)) for x in [0.00, 0.35, 0.7]]\n",
    "fig = confusing_plot(colors)"
   ]
  },
  {
   "cell_type": "markdown",
   "metadata": {},
   "source": [
    "In our opinion, the last one which uses no color turns out to be the most readable. The point of\n",
    "this exercise is **not** to not use color in your plots, but rather to encourage you to think about\n",
    "whether hue or value will be more effective in communicating your message"
   ]
  },
  {
   "cell_type": "markdown",
   "metadata": {},
   "source": [
    "#### Carelessness with value can make grayscale impossible to read\n",
    "\n",
    "Recall that driving the saturation to 0 is approximately equivalent to projecting the colors\n",
    "onto grayscale? Well, if you aren’t careful in choosing your colors then they may have the same\n",
    "values and be unidentifiable once converted to grayscale\n",
    "\n",
    "This code is based on an example from the\n",
    "[matplotlib documentation](https://matplotlib.org/gallery/statistics/barchart_demo.html#barchart-demo)"
   ]
  },
  {
   "cell_type": "code",
   "execution_count": null,
   "metadata": {
    "hide-output": false
   },
   "outputs": [],
   "source": [
    "n_groups = 5\n",
    "\n",
    "means_men = (20, 35, 30, 35, 27)\n",
    "means_women = (25, 32, 34, 20, 25)\n",
    "\n",
    "fig, ax = plt.subplots()\n",
    "\n",
    "index = np.arange(n_groups)\n",
    "bar_width = 0.35\n",
    "\n",
    "color_men = mplc.hsv_to_rgb((0.66, 0.35, 0.9))\n",
    "rects1 = ax.bar(\n",
    "    index, means_men, bar_width, color=color_men, label='men'\n",
    ")\n",
    "\n",
    "color_women = mplc.hsv_to_rgb((0.10, 0.65, 0.85))\n",
    "rects2 = ax.bar(\n",
    "    index + bar_width, means_women, bar_width, color=color_women, label='women'\n",
    ")\n",
    "\n",
    "ax.set_xlabel('group')\n",
    "ax.set_ylabel('scores')\n",
    "ax.set_title('scores by group and gender')\n",
    "ax.set_xticks(index + bar_width / 2)\n",
    "ax.set_xticklabels(('a', 'b', 'c', 'd', 'e'))\n",
    "ax.legend()\n",
    "\n",
    "fig.tight_layout()"
   ]
  },
  {
   "cell_type": "markdown",
   "metadata": {},
   "source": [
    "And here is the same image converted to grayscale\n",
    "\n",
    "<img src=\"https://storage.googleapis.com/qeds/_static/visualization_files/bar_grayscale.png\" alt=\"bar_grayscale.png\" style=\"\">\n",
    "\n",
    "  \n",
    "The image below, from [this flowingdata blog entry](https://flowingdata.com/2012/11/09/incredibly-divided-nation-in-a-map),\n",
    "shows what happens when you don’t check your colors… Don’t do this\n",
    "\n",
    "<img src=\"https://storage.googleapis.com/qeds/_static/visualization_files/Divided-nation.jpg\" alt=\"Divided-nation.jpg\" style=\"\">"
   ]
  },
  {
   "cell_type": "markdown",
   "metadata": {},
   "source": [
    "#### Use color to draw attention\n",
    "\n",
    "If you are displaying information about various groups but are really only interested in how one\n",
    "group differs from the others then choose several close together hues to represent the less\n",
    "important groups and a distinct color to display the group of interest"
   ]
  },
  {
   "cell_type": "code",
   "execution_count": null,
   "metadata": {
    "hide-output": false
   },
   "outputs": [],
   "source": [
    "fig, ax = plt.subplots()\n",
    "\n",
    "npts = 50\n",
    "x = np.linspace(0, 1, npts)\n",
    "\n",
    "np.random.seed(42)  # Set seed for reproducibility\n",
    "y1 = 1.20 + 0.75*x + 0.25*np.random.randn(npts)\n",
    "y2 = 1.35 + 0.50*x + 0.25*np.random.randn(npts)\n",
    "y3 = 1.40 + 0.65*x + 0.25*np.random.randn(npts)\n",
    "y4 = 0.15 + 3.0*x + 0.15*np.random.randn(npts)  # Group of interest\n",
    "\n",
    "colors = [mplc.hsv_to_rgb((x, 0.4, 0.85)) for x in [0.40, 0.50, 0.60]]\n",
    "colors.append(mplc.hsv_to_rgb((0.0, 0.85, 1.0)))\n",
    "\n",
    "for (y, c) in zip([y1, y2, y3, y4], colors):\n",
    "    ax.scatter(x=x, y=y, color=c, s=36)\n",
    "\n",
    "ax.text(0.25, 0.5, \"Group of Interest\", color=colors[-1])\n",
    "ax.spines['right'].set_visible(False)\n",
    "ax.spines['top'].set_visible(False)"
   ]
  },
  {
   "cell_type": "code",
   "execution_count": null,
   "metadata": {
    "hide-output": false
   },
   "outputs": [],
   "source": [
    "ca_gdp = pd.Series(\n",
    "    [5.2, 1.8, 3.0, 1.9, 3.1, 3.2, 2.8, 2.2, 1.0, -2.8, 3.2, 3.1, 1.7, 2.5, 2.9, 1.0, 1.4, 3.0],\n",
    "    index=list(range(2000, 2018))\n",
    ")\n",
    "\n",
    "fig, ax = plt.subplots()\n",
    "\n",
    "for side in [\"right\", \"top\", \"left\", \"bottom\"]:\n",
    "    ax.spines[side].set_visible(False)"
   ]
  },
  {
   "cell_type": "markdown",
   "metadata": {},
   "source": [
    "Warm colors (colors like red, yellow, and orange) often appear lighter than cool colors (colors\n",
    "like blue, green and purple) when converted to grayscale even when they have similar values.\n",
    "Sometimes to know whether colors are different enough, you just have to test it out"
   ]
  },
  {
   "cell_type": "markdown",
   "metadata": {},
   "source": [
    "#### Don’t use color to differentiate small objects\n",
    "\n",
    "Color is a great differentiator when there is enough of it to see… However, when the objects\n",
    "become too small, it becomes very difficult to separate even colors that are very different\n",
    "\n",
    "Below is the same plot as we had above, but we have made the points in the scatter plot smaller"
   ]
  },
  {
   "cell_type": "code",
   "execution_count": null,
   "metadata": {
    "hide-output": false
   },
   "outputs": [],
   "source": [
    "fig, ax = plt.subplots()\n",
    "\n",
    "npts = 50\n",
    "x = np.linspace(0, 1, npts)\n",
    "\n",
    "np.random.seed(42)  # Set seed for reproducibility\n",
    "y1 = 1.20 + 0.75*x + 0.25*np.random.randn(npts)\n",
    "y2 = 1.35 + 0.50*x + 0.25*np.random.randn(npts)\n",
    "y3 = 1.40 + 0.65*x + 0.25*np.random.randn(npts)\n",
    "y4 = 0.15 + 3.0*x + 0.15*np.random.randn(npts)  # Group of interest\n",
    "\n",
    "colors = [mplc.hsv_to_rgb((x, 0.4, 0.85)) for x in [0.40, 0.50, 0.60]]\n",
    "colors.append(mplc.hsv_to_rgb((0.0, 0.85, 1.0)))\n",
    "\n",
    "for (y, c) in zip([y1, y2, y3, y4], colors):\n",
    "    ax.scatter(x=x, y=y, color=c, s=1)\n",
    "\n",
    "ax.text(0.25, 0.5, \"Group of Interest\", color=colors[-1])\n",
    "ax.spines['right'].set_visible(False)\n",
    "ax.spines['top'].set_visible(False)"
   ]
  },
  {
   "cell_type": "markdown",
   "metadata": {},
   "source": [
    "It becomes harder to read, though, because the red is so much darker than some of the other colors,\n",
    "it is still possible to find the group of interest (a lesson to be learned here!)"
   ]
  },
  {
   "cell_type": "markdown",
   "metadata": {},
   "source": [
    "#### Colors connotations\n",
    "\n",
    "Some colors have connotations. It is confusing when colors are used to mean the opposite of what\n",
    "they are used for\n",
    "\n",
    "For example, using red to denote positive profits and black to denote negative profits would be\n",
    "a poor color choice because red is often associated with losses and black is associated with profits"
   ]
  },
  {
   "cell_type": "code",
   "execution_count": null,
   "metadata": {
    "hide-output": false
   },
   "outputs": [],
   "source": [
    "df = pd.DataFrame(\n",
    "    {\"profits\": [1.5, 2.5, 3.5, -6.7, -2.0, 1.0]},\n",
    "    index=[2005, 2006, 2007, 2008, 2009, 2010]\n",
    ")"
   ]
  },
  {
   "cell_type": "code",
   "execution_count": null,
   "metadata": {
    "hide-output": false
   },
   "outputs": [],
   "source": [
    "fig, ax = plt.subplots()\n",
    "\n",
    "colors = [\"k\" if x < 0 else \"r\" for x in df[\"profits\"].values]\n",
    "bars = ax.bar(np.arange(len(colors)), df[\"profits\"].values, color=colors, alpha=0.8)\n",
    "ax.hlines(0, -1.0, 6.0)\n",
    "ax.set_xticklabels(df.index)\n",
    "\n",
    "ax.set_xlim(-0.5, 5.5)\n",
    "ax.set_title(\"Profits for Company X\")\n",
    "\n",
    "ax.xaxis.set_ticks_position('none')\n",
    "ax.yaxis.set_ticks_position('none')\n",
    "\n",
    "for _spine in [\"right\", \"top\", \"left\", \"bottom\"]:\n",
    "    ax.spines[_spine].set_visible(False)"
   ]
  },
  {
   "cell_type": "markdown",
   "metadata": {},
   "source": [
    "This plot becomes much more intuitive by using red for negative values"
   ]
  },
  {
   "cell_type": "code",
   "execution_count": null,
   "metadata": {
    "hide-output": false
   },
   "outputs": [],
   "source": [
    "fig, ax = plt.subplots()\n",
    "\n",
    "colors = [\"r\" if x < 0 else \"k\" for x in df[\"profits\"].values]\n",
    "bars = ax.bar(np.arange(len(colors)), df[\"profits\"].values, color=colors, alpha=0.8)\n",
    "ax.hlines(0, -1.0, 6.0)\n",
    "ax.set_xticklabels(df.index)\n",
    "\n",
    "ax.set_xlim(-0.5, 5.5)\n",
    "ax.set_title(\"Profits for Company X\")\n",
    "\n",
    "ax.xaxis.set_ticks_position('none')\n",
    "ax.yaxis.set_ticks_position('none')\n",
    "\n",
    "for _spine in [\"right\", \"top\", \"left\", \"bottom\"]:\n",
    "    ax.spines[_spine].set_visible(False)"
   ]
  },
  {
   "cell_type": "markdown",
   "metadata": {},
   "source": [
    "## Visualization Rules\n",
    "\n",
    "We have already discussed some guidelines for color. We will now discuss some guidelines for which\n",
    "elements to include and how to structure your graphs. There are probably cases in which it makes\n",
    "sense to violate each of these, but please have a damn good reason for doing so (and which you can\n",
    "explain when someone points out what you’ve done)\n",
    "\n",
    "The main theme for these guidelines will be to keep the plot as simple as possible so that your\n",
    "readers can get the clearest understanding of your story. Many people try too hard to make their\n",
    "plot eye-catching and in the process, they destroy the message in the graph. Graphs should be as\n",
    "simple as possible, but not simpler\n",
    "\n",
    "We will discuss some of the guidelines that we feel are most abused, but many very good books have\n",
    "been written on this subject. Some books that we have found extremely instructive are:\n",
    "\n",
    "1. *Visual Display of Quantitative Information* by Edward Tufte  \n",
    "1. *The Wall Street Journal Guide to Information Graphics: The Dos and Don’ts of Presenting Data,\n",
    "  Facts, and Figures* by Dona M Wong  \n",
    "1. *The Functional Art: An introduction to information graphics and visualization* by Alberto Cairo  \n",
    "\n",
    "\n",
    "Some blogs that we think are useful for seeing well done visualizations are:\n",
    "\n",
    "1. Flowing Data: [https://flowingdata.com/](https://flowingdata.com/)  \n",
    "1. Story Telling with Data: [http://www.storytellingwithdata.com/](http://www.storytellingwithdata.com/)  \n",
    "1. Visualizing Data: [http://www.visualisingdata.com/](http://www.visualisingdata.com/)  \n",
    "1. Junk Charts: [https://junkcharts.typepad.com/](https://junkcharts.typepad.com/)  \n",
    "\n",
    "\n",
    "As you begin to do more visualizations in your work, we recommend reading these books and following\n",
    "some of these blogs. Seeing how others display their information will ensure that, when you run into\n",
    "interesting problems in the future, you’ll have a well of knowledge that you can call upon\n",
    "\n",
    "In fact, one friend of ours takes this very seriously. He keeps an organized binder of graphics that\n",
    "he has seen and likes. He reads this binder, sometimes for hours, when he is thinking about how to\n",
    "communicate messages for his presentations\n",
    "\n",
    "A couple last links to specific articles we enjoyed:\n",
    "\n",
    "- [This Financial Times article](https://ig.ft.com/science-of-charts) is a great exercise to\n",
    "  demonstrate how choice of graph type can affect a visualizations interpretability  \n",
    "- [This article](https://towardsdatascience.com/data-visualization-best-practices-less-is-more-and-people-dont-read-ba41b8f29e7b)\n",
    "  does an exceptional job at redesigning graphics that were poorly done to start  \n",
    "- [Duke library data visualization guide](https://guides.library.duke.edu/datavis/topten) has a\n",
    "  few concise rules worth reviewing  "
   ]
  },
  {
   "cell_type": "markdown",
   "metadata": {},
   "source": [
    "### Bar plot recommendations\n",
    "\n",
    "In Dona Wong’s book, she advises against using *zebra patterns*"
   ]
  },
  {
   "cell_type": "code",
   "execution_count": null,
   "metadata": {
    "hide-output": false
   },
   "outputs": [],
   "source": [
    "df = pd.DataFrame(\n",
    "    {\n",
    "        \"Unemployment Rate\": [5.20, 5.67, 9.20, 4.03, 3.80],\n",
    "        \"Pension Expenditure (% of GDP)\": [4.18, 4.70, 13.90, 6.24, 7.06],\n",
    "        \"Social Welfare Expenditure (% of GDP)\": [7.42, 9.84, 19.72, 12.98, 14.50],\n",
    "        \"Highest Tax Rate\": [47, 33, 59.6, 50, 39.6]\n",
    "    },\n",
    "    index = [\"Australia\", \"Canada\", \"France\", \"UK\", \"USA\"]\n",
    ")\n",
    "\n",
    "def create_barplot(df, colors):\n",
    "\n",
    "    fig, ax = plt.subplots(figsize=(14, 6))\n",
    "\n",
    "    df.T.plot(kind=\"bar\", color=colors, ax=ax, edgecolor=\"k\", rot=0)\n",
    "    ax.legend(bbox_to_anchor=(0, 1.02, 1.0, 1.02), loc=3, mode=\"expand\", ncol=5)\n",
    "    ax.set_xticklabels(df.columns, fontsize=6)\n",
    "\n",
    "    return fig"
   ]
  },
  {
   "cell_type": "markdown",
   "metadata": {},
   "source": [
    "Instead she proposes using different shades of the same color (ordered from lightest to darkest!)"
   ]
  },
  {
   "cell_type": "code",
   "execution_count": null,
   "metadata": {
    "hide-output": false
   },
   "outputs": [],
   "source": [
    "colors = [\n",
    "    (0.902, 0.902, 0.997), (0.695, 0.695, 0.993), (0.488, 0.488, 0.989),\n",
    "    (0.282, 0.282, 0.985), (0.078, 0.078, 0.980)\n",
    "]\n",
    "\n",
    "create_barplot(df, colors)"
   ]
  },
  {
   "cell_type": "markdown",
   "metadata": {},
   "source": [
    "Notice that we put a legend at the top and maintain the same order as kept in the bars\n",
    "\n",
    "Additionally, there is wide consensus that starting bar plots at any number besides 0 is a\n",
    "misrepresentation of the data – Always start your bar plots at 0. An example of how starting at a\n",
    "non-zero number is misleading can be seen below and was originally from the\n",
    "[flowingdata blog](https://flowingdata.com/2012/08/06/fox-news-continues-charting-excellence)\n",
    "\n",
    "First we look at a reproduction of the originally displayed image:"
   ]
  },
  {
   "cell_type": "code",
   "execution_count": null,
   "metadata": {
    "hide-output": false
   },
   "outputs": [],
   "source": [
    "fig, ax = plt.subplots()\n",
    "\n",
    "ax.bar([0, 1], [35, 39.6], color=\"orange\")\n",
    "\n",
    "ax.set_xticks([0, 1])\n",
    "ax.set_xticklabels([\"Now\", \"Jan 1, 2013\"])\n",
    "ax.set_ylim(34, 42)\n",
    "\n",
    "ax.xaxis.set_ticks_position('none')\n",
    "ax.yaxis.set_ticks_position('none')\n",
    "\n",
    "for _spine in [\"right\", \"top\", \"left\", \"bottom\"]:\n",
    "    ax.spines[_spine].set_visible(False)\n",
    "\n",
    "ax.set_title(\"IF BUSH TAX CUTS EXPIRE\\nTop Tax Rate\")"
   ]
  },
  {
   "cell_type": "markdown",
   "metadata": {},
   "source": [
    "This looks like a big difference! In fact, your eyes are telling you that taxes will increase by a\n",
    "factor of 5 if the tax cuts expire\n",
    "\n",
    "If we start this same bar plot at 0, it becomes much less striking and tells you that the percentage\n",
    "increase in the top tax rate is only 5-10 percent"
   ]
  },
  {
   "cell_type": "code",
   "execution_count": null,
   "metadata": {
    "hide-output": false
   },
   "outputs": [],
   "source": [
    "fig, ax = plt.subplots()\n",
    "\n",
    "ax.bar([0, 1], [35, 39.6], color=\"orange\")\n",
    "\n",
    "ax.set_xticks([0, 1])\n",
    "ax.set_xticklabels([\"Now\", \"Jan 1, 2013\"])\n",
    "ax.set_ylim(0, 42)\n",
    "\n",
    "ax.xaxis.set_ticks_position('none')\n",
    "ax.yaxis.set_ticks_position('none')\n",
    "\n",
    "for _spine in [\"right\", \"top\", \"left\", \"bottom\"]:\n",
    "    ax.spines[_spine].set_visible(False)\n",
    "\n",
    "ax.set_title(\"IF BUSH TAX CUTS EXPIRE\\nTop Tax Rate\")"
   ]
  },
  {
   "cell_type": "markdown",
   "metadata": {},
   "source": [
    "We also have opinions about what type of person uses all caps, but we’ll keep that to ourselves for\n",
    "now"
   ]
  },
  {
   "cell_type": "markdown",
   "metadata": {},
   "source": [
    "### Pie plots\n",
    "\n",
    "As a general rule, you should avoid pie plots. When comparing groups, it is much easier for your\n",
    "reader to measure the heights on a bar graph than determine the size of the angles in a pie chart.\n",
    "\n",
    "Let’s look at an example of this below"
   ]
  },
  {
   "cell_type": "code",
   "execution_count": null,
   "metadata": {
    "hide-output": false
   },
   "outputs": [],
   "source": [
    "df = pd.DataFrame(\n",
    "    {\"values\": [5.5, 4.5, 8.4, 4.75, 2.5]},\n",
    "    index=[\"Bob\", \"Alice\", \"Charlie\", \"Susan\", \"Jessie\"]\n",
    ")\n",
    "\n",
    "colors = [mplc.hsv_to_rgb((0.66, 0.8, 0.9))]*2\n",
    "colors += [mplc.hsv_to_rgb((0.05, 0.6, 0.9))]\n",
    "colors += [mplc.hsv_to_rgb((0.66, 0.8, 0.9))]*2\n",
    "\n",
    "fig, ax = plt.subplots(1, 2)\n",
    "\n",
    "df.plot(kind=\"barh\", y=\"values\", ax=ax[0], legend=False, color=colors)\n",
    "df.plot(kind=\"pie\", y=\"values\", ax=ax[1], legend=False, colors=colors, startangle=0)\n",
    "\n",
    "ax[0].spines['right'].set_visible(False)\n",
    "ax[0].spines['top'].set_visible(False)\n",
    "ax[1].set_ylabel(\"\")\n",
    "fig.suptitle(\"How many pieces of pie eaten\")"
   ]
  },
  {
   "cell_type": "markdown",
   "metadata": {},
   "source": [
    "Using the pie chart, can you tell who ate more pie Alice or Susan? How about with the bar chart?\n",
    "\n",
    "The pie chart can sometimes be used to illustrate whether one or two groups is much larger than the\n",
    "others. If you were making a case that Charlie ate too much of the pie, and should\n",
    "pay more than an equal split, then a pie chart works (though a bar plot also works…). If you\n",
    "wanted to make a more precise point then you might consider going with a bar plot instead"
   ]
  },
  {
   "cell_type": "markdown",
   "metadata": {},
   "source": [
    "### Simplify line plots\n",
    "\n",
    "We’ve tried to emphasize repeatedly that simplifying your visualizations is essential to being able\n",
    "to communicate your message. We do it again here and will do it a few more times after this…\n",
    "\n",
    "Don’t try and fit too much information into a single line plot. We see people do this very\n",
    "frequently – Remember that a visualization should have ONE main message. Do not pollute your\n",
    "message with extra information\n",
    "\n",
    "In our example below, using World Bank data, we will show that Japan’s population is aging faster\n",
    "than that of many other economically successful countries. We show this using the age dependency\n",
    "ratio, which is the number of individuals aged 65+ divided by the number of individuals who are\n",
    "15-64, for each country over time\n",
    "\n",
    "A high age dependency ratio means that the government will have a smaller tax base to collect from\n",
    "but have a more health and pension expenditures to pay to the old"
   ]
  },
  {
   "cell_type": "code",
   "execution_count": null,
   "metadata": {
    "hide-output": false
   },
   "outputs": [],
   "source": [
    "download_url = \"https://storage.googleapis.com/qeds/data/WorldBank_AgeDependencyRatio.csv\"\n",
    "df = pd.read_csv(download_url, na_values=\"..\")\n",
    "df = df[[\"Country Name\", \"1960\", \"1970\", \"1980\", \"1990\", \"2000\", \"2010\", \"2017\"]]\n",
    "df = df.set_index(\"Country Name\").T\n",
    "df.index = df.index.values.astype(int)"
   ]
  },
  {
   "cell_type": "markdown",
   "metadata": {},
   "source": [
    "We will demonstrate some bad examples of line plots and suggest an alternative plot\n",
    "\n",
    "For example, please never do something like the plot below for a production quality graph… You may\n",
    "think to yourself, “I would never do submit something like this…” Well, people have done this and\n",
    "the people who have to interpret these plots often disappear into the woods never to be seen\n",
    "again… We just want to make sure you don’t inflict this on your colleagues"
   ]
  },
  {
   "cell_type": "code",
   "execution_count": null,
   "metadata": {
    "hide-output": false
   },
   "outputs": [],
   "source": [
    "fig, ax = plt.subplots()\n",
    "\n",
    "df.plot(ax=ax, legend=False)\n",
    "ax.text(2007, 38, \"Japan\")\n",
    "\n",
    "ax.spines[\"right\"].set_visible(False)\n",
    "ax.spines[\"top\"].set_visible(False)\n",
    "ax.set_title(\"Japan's Aging Population\")\n",
    "ax.set_ylabel(\"Age Dependency Ratio\")"
   ]
  },
  {
   "cell_type": "markdown",
   "metadata": {},
   "source": [
    "However, if we wanted to really make the point that Japan was an outlier among many countries, we\n",
    "could plot the age dependency ratio for all other countries in light thing gray lines so Japan\n",
    "stands out"
   ]
  },
  {
   "cell_type": "code",
   "execution_count": null,
   "metadata": {
    "hide-output": false
   },
   "outputs": [],
   "source": [
    "fig, ax = plt.subplots()\n",
    "\n",
    "not_japan = list(df.columns)\n",
    "not_japan.remove(\"Japan\")\n",
    "\n",
    "df[not_japan].plot(ax=ax, color=[(0.8, 0.8, 0.8)], lw=0.4, legend=False)\n",
    "ax.text(1970, 29, \"Other Developed Countries\")\n",
    "\n",
    "df[\"Japan\"].plot(ax=ax, color=(0.95, 0.05, 0.05), lw=2.5, legend=False)\n",
    "ax.text(2006.5, 38, \"Japan\")\n",
    "\n",
    "ax.spines[\"right\"].set_visible(False)\n",
    "ax.spines[\"top\"].set_visible(False)\n",
    "ax.set_title(\"Japan's Aging Population\")\n",
    "ax.set_ylabel(\"Age Dependency Ratio\")"
   ]
  },
  {
   "cell_type": "markdown",
   "metadata": {},
   "source": [
    "However, placing this many lines on a single plot is definitely an exception and we encourage you\n",
    "to do so sparingly. Generally, you should only have a few informative lines for each plot\n",
    "\n",
    "We now will focus our graph on a few countries of interest. To do so, the plot below uses many\n",
    "different line styles. There are some good use cases for using line styles to distinguish between\n",
    "different pieces of data, but not many. In particular, having this many different styles and\n",
    "colors makes it difficult to figure out what is going on"
   ]
  },
  {
   "cell_type": "code",
   "execution_count": null,
   "metadata": {
    "hide-output": false
   },
   "outputs": [],
   "source": [
    "fig, ax = plt.subplots()\n",
    "\n",
    "df[\"Japan\"].plot(ax=ax, legend=False, linestyle=\"solid\")\n",
    "ax.text(2002, 35, \"Japan\")\n",
    "df[\"United Kingdom\"].plot(ax=ax, legend=False, linestyle=\"dashed\")\n",
    "ax.text(1975, 24, \"UK\")\n",
    "df[\"United States\"].plot(ax=ax, legend=False, linestyle=\"dashed\")\n",
    "ax.text(1980, 19, \"US\")\n",
    "df[\"China\"].plot(ax=ax, legend=False, linestyle=\"dotted\")\n",
    "ax.text(1990, 10, \"China\")\n",
    "df[\"India\"].plot(ax=ax, legend=False, linestyle=\"dotted\")\n",
    "ax.text(2005, 5, \"India\")\n",
    "\n",
    "ax.spines[\"right\"].set_visible(False)\n",
    "ax.spines[\"top\"].set_visible(False)\n",
    "ax.set_title(\"Japan's Aging Population\")\n",
    "ax.set_ylabel(\"Age Dependency Ratio\")"
   ]
  },
  {
   "cell_type": "markdown",
   "metadata": {},
   "source": [
    "We recommend using color and line width instead of line styles to highlight certain pieces of\n",
    "information as seen below"
   ]
  },
  {
   "cell_type": "code",
   "execution_count": null,
   "metadata": {
    "hide-output": false
   },
   "outputs": [],
   "source": [
    "fig, ax = plt.subplots()\n",
    "\n",
    "emph_color = (0.95, 0.05, 0.05)\n",
    "sec_color = [(0.05, 0.05+0.075*x, 0.95) for x in range(4)]\n",
    "df[\"Japan\"].plot(ax=ax, legend=False, color=emph_color, linewidth=2.5)\n",
    "ax.text(2002, 35, \"Japan\")\n",
    "df[\"United Kingdom\"].plot(ax=ax, legend=False, color=sec_color[0], alpha=0.4, linewidth=0.75)\n",
    "ax.text(1975, 24, \"UK\")\n",
    "df[\"United States\"].plot(ax=ax, legend=False, color=sec_color[1], alpha=0.4, linewidth=0.75)\n",
    "ax.text(1980, 19, \"US\")\n",
    "df[\"China\"].plot(ax=ax, legend=False, color=sec_color[2], alpha=0.4, linewidth=0.75)\n",
    "ax.text(1990, 10, \"China\")\n",
    "df[\"India\"].plot(ax=ax, legend=False, color=sec_color[3], alpha=0.4, linewidth=0.75)\n",
    "ax.text(2005, 5, \"India\")\n",
    "\n",
    "ax.spines[\"right\"].set_visible(False)\n",
    "ax.spines[\"top\"].set_visible(False)\n",
    "ax.set_title(\"Japan's Aging Population\")\n",
    "ax.set_ylabel(\"Age Dependency Ratio\")"
   ]
  },
  {
   "cell_type": "markdown",
   "metadata": {},
   "source": [
    "### Tick steps\n",
    "\n",
    "Use easy to interpret increments such as multiples of 2, 5, 10, 25 etc…\n",
    "\n",
    "Using increments like `0, 3, 6, 9, 12, ...` make it more difficult for your reader to do mentally\n",
    "determine what the values between the lines are"
   ]
  },
  {
   "cell_type": "code",
   "execution_count": null,
   "metadata": {
    "hide-output": false
   },
   "outputs": [],
   "source": [
    "fig, ax = plt.subplots(1, 2, figsize=(14, 6))\n",
    "\n",
    "x = np.linspace(0, 26, 50)\n",
    "\n",
    "ax[0].plot(x, np.sqrt(x))\n",
    "ax[1].plot(x, np.sqrt(x))\n",
    "\n",
    "ax[0].set_xticks(np.arange(0, 27, 3))\n",
    "ax[0].set_xticklabels(np.arange(0, 27, 3))\n",
    "ax[1].set_xticks(np.arange(0, 27, 5))\n",
    "ax[1].set_xticklabels(np.arange(0, 27, 5))"
   ]
  },
  {
   "cell_type": "markdown",
   "metadata": {},
   "source": [
    "### No background colors\n",
    "\n",
    "There are no reasons to use background colors in your visualizations… Research has shown that\n",
    "white or very light grays provide the best contrast as a background\n",
    "\n",
    "Compare the following graphs and think about which feels better"
   ]
  },
  {
   "cell_type": "code",
   "execution_count": null,
   "metadata": {
    "hide-output": false
   },
   "outputs": [],
   "source": [
    "fig, ax = plt.subplots()\n",
    "\n",
    "ax.bar([0, 1], [35, 39.6], color=\"orange\")\n",
    "\n",
    "ax.set_xticks([0, 1])\n",
    "ax.set_xticklabels([\"Now\", \"Jan 1, 2013\"])\n",
    "ax.set_ylim(0, 42)\n",
    "\n",
    "bgcolor = \"blue\"\n",
    "fig.set_facecolor(bgcolor)\n",
    "ax.set_facecolor(bgcolor)\n",
    "ax.xaxis.set_ticks_position('none')\n",
    "ax.yaxis.set_ticks_position('none')\n",
    "\n",
    "for _spine in [\"right\", \"top\", \"left\", \"bottom\"]:\n",
    "    ax.spines[_spine].set_visible(False)\n",
    "\n",
    "ax.set_title(\"IF BUSH TAX CUTS EXPIRE\\nTop Tax Rate\")"
   ]
  },
  {
   "cell_type": "markdown",
   "metadata": {},
   "source": [
    "versus"
   ]
  },
  {
   "cell_type": "code",
   "execution_count": null,
   "metadata": {
    "hide-output": false
   },
   "outputs": [],
   "source": [
    "fig, ax = plt.subplots()\n",
    "\n",
    "ax.bar([0, 1], [35, 39.6], color=\"orange\")\n",
    "\n",
    "ax.set_xticks([0, 1])\n",
    "ax.set_xticklabels([\"Now\", \"Jan 1, 2013\"])\n",
    "ax.set_ylim(0, 42)\n",
    "\n",
    "bgcolor = (0.99, 0.99, 0.99)\n",
    "fig.set_facecolor(bgcolor)\n",
    "ax.set_facecolor(bgcolor)\n",
    "ax.xaxis.set_ticks_position('none')\n",
    "ax.yaxis.set_ticks_position('none')\n",
    "\n",
    "for _spine in [\"right\", \"top\", \"left\", \"bottom\"]:\n",
    "    ax.spines[_spine].set_visible(False)\n",
    "\n",
    "ax.set_title(\"IF BUSH TAX CUTS EXPIRE\\nTop Tax Rate\")"
   ]
  },
  {
   "cell_type": "markdown",
   "metadata": {},
   "source": [
    "### Legends\n",
    "\n",
    "Our good friend Dave Backus despised legends even more than he disliked when the Pittsburgh Steelers\n",
    "lost football games. Dave originally convinced us to ditch legends and use labels (when it is\n",
    "possible), but other visualization experts share these opinions\n",
    "\n",
    "Legends have several weaknesses:\n",
    "\n",
    "1. Relying solely on line color often makes a black and white version of your plot effectively\n",
    "  useless since you don’t know if the colors will be distinguishable in grayscale  \n",
    "1. Legends require people to distinguish between observations with small samples of the colors. For\n",
    "  someone with weak eyesight or who is color blind, this can make interpreting graphs nearly\n",
    "  impossible  \n",
    "1. They add distance between the data and its description. This requires peoples’ eyes to go back\n",
    "  and forth between the lines and the legend when trying to understand the story being told. This\n",
    "  distracts from the ability to digest the story quickly and succinctly  \n",
    "\n",
    "\n",
    "To demonstrate this, we revisit our age dependency ratio example from earlier"
   ]
  },
  {
   "cell_type": "code",
   "execution_count": null,
   "metadata": {
    "hide-output": false
   },
   "outputs": [],
   "source": [
    "download_url = \"https://storage.googleapis.com/qeds/data/WorldBank_AgeDependencyRatio.csv\"\n",
    "df = pd.read_csv(download_url, na_values=\"..\")\n",
    "df = df[[\"Country Name\", \"1960\", \"1970\", \"1980\", \"1990\", \"2000\", \"2010\", \"2017\"]]\n",
    "df = df.set_index(\"Country Name\").T\n",
    "df.index = df.index.values.astype(int)"
   ]
  },
  {
   "cell_type": "markdown",
   "metadata": {},
   "source": [
    "With a legend"
   ]
  },
  {
   "cell_type": "code",
   "execution_count": null,
   "metadata": {
    "hide-output": false
   },
   "outputs": [],
   "source": [
    "fig, ax = plt.subplots()\n",
    "\n",
    "emph_color = (0.95, 0.05, 0.05)\n",
    "sec_color = [(0.05, 0.05+0.075*x, 0.95) for x in range(4)]\n",
    "df[\"Japan\"].plot(ax=ax, legend=True, color=emph_color, linewidth=2.5)\n",
    "df[\"United Kingdom\"].plot(ax=ax, legend=True, color=sec_color[0], alpha=0.4, linewidth=0.75)\n",
    "df[\"United States\"].plot(ax=ax, legend=True, color=sec_color[1], alpha=0.4, linewidth=0.75)\n",
    "df[\"China\"].plot(ax=ax, legend=True, color=sec_color[2], alpha=0.4, linewidth=0.75)\n",
    "df[\"India\"].plot(ax=ax, legend=True, color=sec_color[3], alpha=0.4, linewidth=0.75)\n",
    "\n",
    "ax.spines[\"right\"].set_visible(False)\n",
    "ax.spines[\"top\"].set_visible(False)\n",
    "ax.set_title(\"Japan's Aging Population\")\n",
    "ax.set_ylabel(\"Age Dependency Ratio\")"
   ]
  },
  {
   "cell_type": "markdown",
   "metadata": {},
   "source": [
    "With labels"
   ]
  },
  {
   "cell_type": "code",
   "execution_count": null,
   "metadata": {
    "hide-output": false
   },
   "outputs": [],
   "source": [
    "fig, ax = plt.subplots()\n",
    "\n",
    "emph_color = (0.95, 0.05, 0.05)\n",
    "sec_color = [(0.05, 0.05+0.075*x, 0.95) for x in range(4)]\n",
    "df[\"Japan\"].plot(ax=ax, legend=False, color=emph_color, linewidth=2.5)\n",
    "ax.text(2002, 35, \"Japan\")\n",
    "df[\"United Kingdom\"].plot(ax=ax, legend=False, color=sec_color[0], alpha=0.4, linewidth=0.75)\n",
    "ax.text(1975, 24, \"UK\")\n",
    "df[\"United States\"].plot(ax=ax, legend=False, color=sec_color[1], alpha=0.4, linewidth=0.75)\n",
    "ax.text(1980, 19, \"US\")\n",
    "df[\"China\"].plot(ax=ax, legend=False, color=sec_color[2], alpha=0.4, linewidth=0.75)\n",
    "ax.text(1990, 10, \"China\")\n",
    "df[\"India\"].plot(ax=ax, legend=False, color=sec_color[3], alpha=0.4, linewidth=0.75)\n",
    "ax.text(2005, 5, \"India\")\n",
    "\n",
    "ax.spines[\"right\"].set_visible(False)\n",
    "ax.spines[\"top\"].set_visible(False)\n",
    "ax.set_title(\"Japan's Aging Population\")\n",
    "ax.set_ylabel(\"Age Dependency Ratio\")"
   ]
  },
  {
   "cell_type": "markdown",
   "metadata": {},
   "source": [
    "Most people we have talked to find the example with labels to be a more readable graph"
   ]
  },
  {
   "cell_type": "markdown",
   "metadata": {},
   "source": [
    "### Limit the information in a single plot\n",
    "\n",
    "Don’t try to put too much information in a single plot! We have tried to emphasize this point\n",
    "throughout this lecture, but it is important, and so we are emphasizing it again!\n",
    "\n",
    "Don’t information overload your audience!"
   ]
  },
  {
   "cell_type": "markdown",
   "metadata": {},
   "source": [
    "### Talk to other people\n",
    "\n",
    "The last guideline we leave is that we encourage you to talk with others about your visualization\n",
    "\n",
    "The best way to determine whether other people understand your message is to show it to them"
   ]
  }
 ],
 "metadata": {
  "filename": "visualization_rules.rst",
  "kernelspec": {
   "display_name": "Python",
   "language": "python3",
   "name": "python3"
  },
  "title": "Data Visualization: Rules and Guidelines"
 },
 "nbformat": 4,
 "nbformat_minor": 2
}